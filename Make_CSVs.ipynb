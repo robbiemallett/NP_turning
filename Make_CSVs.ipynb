{
 "cells": [
  {
   "cell_type": "code",
   "execution_count": 1,
   "id": "228b3009-7b16-402a-9289-2d3901f66c9a",
   "metadata": {
    "tags": []
   },
   "outputs": [],
   "source": [
    "import pandas as pd\n",
    "import numpy as np\n",
    "import datetime\n",
    "import matplotlib.pyplot as plt\n",
    "from ll_xy import lonlat_to_xy\n",
    "import os\n",
    "import pyproj\n",
    "geodesic = pyproj.Geod(ellps='WGS84')"
   ]
  },
  {
   "cell_type": "code",
   "execution_count": 2,
   "id": "69468353-0249-4daf-a5b0-2a5c04290bd8",
   "metadata": {
    "tags": []
   },
   "outputs": [],
   "source": [
    "wind_files = sorted(os.listdir('MET'))\n",
    "\n",
    "col_names = ['station_num','year','month','day','hour','latitude',\n",
    "             'longitude','temp','rel_humidity','SLP','wind_dir_deg','wind_spd_m_s',\n",
    "             'Total_Cloud','Low_Cloud','Surf_Temp']\n",
    "\n",
    "dfs = {}\n",
    "\n",
    "for file in wind_files:\n",
    "    \n",
    "    station = int(file.split('_')[1][:2])\n",
    "    \n",
    "    \n",
    "    df = pd.read_csv('MET/'+file,delim_whitespace=True,names=col_names)\n",
    "    \n",
    "    df.replace(to_replace=9999,value=np.nan,inplace=True)\n",
    "    \n",
    "    df = df[['year','month','day','hour','latitude','longitude','wind_dir_deg','wind_spd_m_s']]\n",
    "        \n",
    "    df.dropna(inplace=True)\n",
    "    \n",
    "    df['dt'] = [datetime.datetime(1900+y,m,d,h,0,0) for y,m,d,h in zip(df['year'],df['month'],df['day'],df['hour'])]\n",
    "    df['delta_t_hrs']=[np.nan]+[(x-y).seconds/(60*60) for x,y in zip(df['dt'][1:],df['dt'][:-1])]\n",
    "    \n",
    "    df.dropna(inplace=True)\n",
    "    \n",
    "    df['year']+=1900\n",
    "    \n",
    "    dfs[station]=df"
   ]
  },
  {
   "cell_type": "code",
   "execution_count": 3,
   "id": "bd2d31f2-f9a2-4302-b8cf-cd19c4d888c5",
   "metadata": {
    "tags": []
   },
   "outputs": [],
   "source": [
    "for station, df in dfs.items():\n",
    "    \n",
    "    df['x'],df['y']=lonlat_to_xy(np.array(df['longitude']),\n",
    "                             np.array(df['latitude']),\n",
    "                             hemisphere='n')\n",
    "    df['dx']=[np.nan]+[(x1-x0) for x1,x0 in zip(df['x'][1:],df['x'][:-1])]\n",
    "    df['dy']=[np.nan]+[(y1-y0) for y1,y0 in zip(df['y'][1:],df['y'][:-1])]\n",
    "    df['dist'] = [np.sqrt(x**2+y**2) for x,y in zip(df['dx'],df['dy'])]\n",
    "    df['station_speed_m_s'] = df['dist']/(df['delta_t_hrs']*(60*60))\n",
    "\n",
    "    \n",
    "        \n",
    "    df['dlon']=[np.nan]+[(x-y) for x,y in zip(df['longitude'][1:],df['longitude'][:-1])]\n",
    "    df['dlat']=[np.nan]+[(x-y) for x,y in zip(df['latitude'][1:],df['latitude'][:-1])]\n",
    "    \n",
    "    q=[geodesic.inv(long1, lat1, long2, lat2) for long1,lat1,long2,lat2 in zip(df['longitude'][:-1],\n",
    "                                                                               df['latitude'][:-1],\n",
    "                                                                               df['longitude'][1:],\n",
    "                                                                               df['latitude'][1:],\n",
    "                                                                              )]\n",
    "    \n",
    "    df['station_dir_deg']=[np.nan]+[x[1] for x in q]\n",
    "    df['station_dir_deg'] %= 360 \n",
    "    df['dist2']=[np.nan]+[x[2] for x in q]\n",
    "    \n",
    "    df['dir_stat_wind']=df['station_dir_deg']-df['wind_dir_deg']\n",
    "    df['dir_stat_wind']=[(a+180)%360-180 for a in df['dir_stat_wind']]\n",
    "    \n",
    "    \n",
    "    df['station']=station\n",
    "    \n",
    "    df.to_csv(f'tables/{station}.csv')\n",
    "    \n",
    "    \n",
    "    \n"
   ]
  },
  {
   "cell_type": "code",
   "execution_count": null,
   "id": "84bc9b12-d8f2-416d-a0a3-6cdb20ffef12",
   "metadata": {},
   "outputs": [],
   "source": []
  }
 ],
 "metadata": {
  "kernelspec": {
   "display_name": "Python 3 (ipykernel)",
   "language": "python",
   "name": "python3"
  },
  "language_info": {
   "codemirror_mode": {
    "name": "ipython",
    "version": 3
   },
   "file_extension": ".py",
   "mimetype": "text/x-python",
   "name": "python",
   "nbconvert_exporter": "python",
   "pygments_lexer": "ipython3",
   "version": "3.11.5"
  }
 },
 "nbformat": 4,
 "nbformat_minor": 5
}
